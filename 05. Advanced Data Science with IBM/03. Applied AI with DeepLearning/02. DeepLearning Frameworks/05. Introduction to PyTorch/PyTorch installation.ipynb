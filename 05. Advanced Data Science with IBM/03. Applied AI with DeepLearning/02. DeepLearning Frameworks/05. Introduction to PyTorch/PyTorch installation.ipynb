{
 "cells": [
  {
   "cell_type": "code",
   "execution_count": 1,
   "metadata": {},
   "outputs": [
    {
     "name": "stdout",
     "output_type": "stream",
     "text": [
      "Collecting torch==0.3.0.post4 from http://download.pytorch.org/whl/cu80/torch-0.3.0.post4-cp27-cp27mu-linux_x86_64.whl\n",
      "\u001b[?25l  Downloading http://download.pytorch.org/whl/cu80/torch-0.3.0.post4-cp27-cp27mu-linux_x86_64.whl (592.8MB)\n",
      "\u001b[K    100% |████████████████████████████████| 592.8MB 84.8MB/s ta 0:00:011��███████▋               | 307.9MB 91.9MB/s eta 0:00:04    55% |█████████████████▊              | 329.0MB 88.4MB/s eta 0:00:03�███████▍             | 341.0MB 66.1MB/s eta 0:00:04��▋             | 345.5MB 77.7MB/s eta 0:00:04�███████▉             | 348.2MB 76.7MB/s eta 0:00:04�████████             | 350.7MB 81.3MB/s eta 0:00:03    | 353.4MB 75.2MB/s eta 0:00:0400:03�▉          | 404.2MB 78.1MB/s eta 0:00:03███████          | 407.9MB 63.1MB/s eta 0:00:03       | 411.0MB 85.0MB/s eta 0:00:03�██████▊         | 421.8MB 97.2MB/s eta 0:00:02██████▏        | 429.2MB 79.9MB/s eta 0:00:03███████████████████████▌        | 435.6MB 81.8MB/s eta 0:00:02██████▊        | 439.0MB 59.8MB/s eta 0:00:03�█████        | 443.2MB 81.8MB/s eta 0:00:02███████        | 445.5MB 61.1MB/s eta 0:00:03[K    75% |████████████████████████▏       | 448.3MB 71.9MB/s eta 0:00:030:02B/s eta 0:00:02 | 460.8MB 31.8MB/s eta 0:00:05 0:00:022�█████████████████▎      | 468.4MB 98.3MB/s eta 0:00:02 0:00:02▋      | 475.0MB 106.0MB/s eta 0:00:02�███▉      | 478.7MB 84.4MB/s eta 0:00:02█████████      | 482.2MB 70.2MB/s eta 0:00:02  81% |██████████████████████████▎     | 486.0MB 77.8MB/s eta 0:00:02██████████████████████▍     | 489.2MB 56.6MB/s eta 0:00:02 83% |██████████████████████████▊     | 495.8MB 69.5MB/s eta 0:00:02�██████     | 498.6MB 99.7MB/s eta 0:00:01��█████     | 501.0MB 83.2MB/s eta 0:00:02��████▏    | 503.1MB 89.1MB/s eta 0:00:02�██████████▎    | 505.1MB 97.3MB/s eta 0:00:01�█████████████████▍    | 508.0MB 101.1MB/s eta 0:00:01█████▌    | 510.4MB 102.9MB/s eta 0:00:01��███████████████████▋    | 512.4MB 98.1MB/s eta 0:00:01B 78.2MB/s eta 0:00:02██████    | 516.7MB 101.9MB/s eta 0:00:01███████████    | 518.9MB 80.7MB/s eta 0:00:01��███████████████████████████▏   | 521.4MB 101.6MB/s eta 0:00:01█████████████████████▎   | 523.8MB 78.5MB/s eta 0:00:01�██████████████████████████▍   | 526.8MB 107.1MB/s eta 0:00:01|████████████████████████████▋   | 529.9MB 88.4MB/s eta 0:00:01�███████████████████████████▊   | 532.9MB 71.7MB/s eta 0:00:015MB/s eta 0:00:01��███████████████████████████▌  | 545.5MB 85.1MB/s eta 0:00:01�██████████████▊  | 551.0MB 78.9MB/s eta 0:00:01��█▏ | 559.8MB 104.9MB/s eta 0:00:01562.2MB 96.8MB/s eta 0:00:01�███████▋ | 566.3MB 87.5MB/s eta 0:00:01��██████████████████████████ | 573.5MB 74.2MB/s eta 0:00:01�█████████████████████▏| 577.2MB 99.8MB/s eta 0:00:01�| 580.7MB 70.7MB/s eta 0:00:01��██████████▋| 584.7MB 108.7MB/s eta 0:00:01�█████████████████████████▊| 587.5MB 89.9MB/s eta 0:00:01��███████████████| 590.9MB 88.2MB/s eta 0:00:01��███████████████████████████████| 592.7MB 95.0MB/s eta 0:00:01\n",
      "\u001b[?25hRequirement already satisfied: pyyaml in /usr/local/src/bluemix_jupyter_bundle.v102/notebook/lib/python2.7/site-packages (from torch==0.3.0.post4) (3.11)\n",
      "Requirement already satisfied: numpy in /usr/local/src/bluemix_jupyter_bundle.v102/notebook/lib/python2.7/site-packages (from torch==0.3.0.post4) (1.13.1)\n",
      "\u001b[31mtensorflow 1.2.1 has requirement bleach==1.5.0, but you'll have bleach 2.0.0 which is incompatible.\u001b[0m\n",
      "\u001b[31mtensorflow 1.2.1 has requirement html5lib==0.9999999, but you'll have html5lib 0.999999999 which is incompatible.\u001b[0m\n",
      "Installing collected packages: torch\n",
      "Successfully installed torch-0.3.0.post4\n",
      "Collecting torchvision\n",
      "\u001b[?25l  Downloading https://files.pythonhosted.org/packages/ca/0d/f00b2885711e08bd71242ebe7b96561e6f6d01fdb4b9dcf4d37e2e13c5e1/torchvision-0.2.1-py2.py3-none-any.whl (54kB)\n",
      "\u001b[K    100% |████████████████████████████████| 61kB 9.2MB/s eta 0:00:01\n",
      "\u001b[?25hCollecting pillow>=4.1.1 (from torchvision)\n",
      "\u001b[?25l  Downloading https://files.pythonhosted.org/packages/9a/f6/3b3c82c5c75cae471e02fb584136168d732e17ae9db2d21c5dc82f9790f8/Pillow-5.3.0-cp27-cp27mu-manylinux1_x86_64.whl (2.0MB)\n",
      "\u001b[K    100% |████████████████████████████████| 2.0MB 8.7MB/s eta 0:00:01\n",
      "\u001b[?25hRequirement already satisfied: torch in /gpfs/global_fs01/sym_shared/YPProdSpark/user/sadb-d87e451dcba5a4-94ad781b22e9/.local/lib/python2.7/site-packages (from torchvision) (0.3.0.post4)\n",
      "Requirement already satisfied: six in /usr/local/src/bluemix_jupyter_bundle.v102/notebook/lib/python2.7/site-packages (from torchvision) (1.10.0)\n",
      "Requirement already satisfied: numpy in /usr/local/src/bluemix_jupyter_bundle.v102/notebook/lib/python2.7/site-packages (from torchvision) (1.13.1)\n",
      "Requirement already satisfied: pyyaml in /usr/local/src/bluemix_jupyter_bundle.v102/notebook/lib/python2.7/site-packages (from torch->torchvision) (3.11)\n",
      "\u001b[31mtensorflow 1.2.1 has requirement bleach==1.5.0, but you'll have bleach 2.0.0 which is incompatible.\u001b[0m\n",
      "\u001b[31mtensorflow 1.2.1 has requirement html5lib==0.9999999, but you'll have html5lib 0.999999999 which is incompatible.\u001b[0m\n",
      "Installing collected packages: pillow, torchvision\n",
      "Successfully installed pillow-5.3.0 torchvision-0.2.1\n"
     ]
    }
   ],
   "source": [
    "!pip install http://download.pytorch.org/whl/cu80/torch-0.3.0.post4-cp27-cp27mu-linux_x86_64.whl \n",
    "!pip install torchvision "
   ]
  },
  {
   "cell_type": "code",
   "execution_count": 2,
   "metadata": {},
   "outputs": [],
   "source": [
    "import torch"
   ]
  },
  {
   "cell_type": "code",
   "execution_count": null,
   "metadata": {},
   "outputs": [],
   "source": []
  }
 ],
 "metadata": {
  "kernelspec": {
   "display_name": "Python 2 with Spark 2.1",
   "language": "python",
   "name": "python2-spark21"
  },
  "language_info": {
   "codemirror_mode": {
    "name": "ipython",
    "version": 2
   },
   "file_extension": ".py",
   "mimetype": "text/x-python",
   "name": "python",
   "nbconvert_exporter": "python",
   "pygments_lexer": "ipython2",
   "version": "2.7.14"
  }
 },
 "nbformat": 4,
 "nbformat_minor": 1
}
